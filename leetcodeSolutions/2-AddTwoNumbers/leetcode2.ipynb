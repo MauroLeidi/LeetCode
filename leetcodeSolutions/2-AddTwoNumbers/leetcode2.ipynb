{
 "cells": [
  {
   "cell_type": "code",
   "execution_count": 5,
   "metadata": {},
   "outputs": [],
   "source": [
    "# Wird def of ll\n",
    "class ListNode(object):\n",
    "     def __init__(self, val=0, next=None):\n",
    "         self.val = val\n",
    "         self.next = next"
   ]
  },
  {
   "cell_type": "code",
   "execution_count": 9,
   "metadata": {},
   "outputs": [
    {
     "name": "stdout",
     "output_type": "stream",
     "text": [
      "1\n",
      "2\n",
      "3\n"
     ]
    }
   ],
   "source": [
    "# The idea is that you can use it the following way\n",
    "ll = ListNode(1)\n",
    "tail = ll\n",
    "tail.next = ListNode(2)\n",
    "tail = tail.next\n",
    "tail.next = ListNode(3)\n",
    "tail = tail.next\n",
    "# and so on...\n",
    "print(ll.val)\n",
    "while ll.next != None:\n",
    "    print(ll.next.val)\n",
    "    ll = ll.next"
   ]
  },
  {
   "cell_type": "code",
   "execution_count": 11,
   "metadata": {},
   "outputs": [],
   "source": [
    "# Simply pass element wise the two lists and use a carry to propagate the overflows\n",
    "# The two lists can have different sizes, therefore it's necessary to check which one is ending first\n",
    "# Append the other list to the end of the list, keeping in mind there could be a carry\n",
    "\n",
    "\n",
    "def sum(l1, l2):\n",
    "    \"\"\"\n",
    "    :type l1: ListNode\n",
    "    :type l2: ListNode\n",
    "    :rtype: ListNode\n",
    "    \"\"\"\n",
    "    sum = l1.val + l2.val\n",
    "    carry = sum // 10\n",
    "    result = ListNode(sum % 10)\n",
    "    result_tail = result\n",
    "    while l1.next != None and l2.next != None:\n",
    "        l1 = l1.next\n",
    "        l2 = l2.next\n",
    "        sum = l1.val + l2.val + carry\n",
    "        carry = sum // 10\n",
    "        result_tail.next = ListNode(sum % 10)\n",
    "        result_tail = result_tail.next\n",
    "    if l1.next != None:\n",
    "        while l1.next != None:\n",
    "            l1 = l1.next\n",
    "            sum = l1.val + carry\n",
    "            carry = sum // 10\n",
    "            result_tail.next = ListNode(sum % 10)\n",
    "            result_tail = result_tail.next\n",
    "    else:\n",
    "        while l2.next != None:\n",
    "            l2 = l2.next\n",
    "            sum = l2.val + carry\n",
    "            carry = sum // 10\n",
    "            result_tail.next = ListNode(sum % 10)\n",
    "            result_tail = result_tail.next\n",
    "    if carry==1:\n",
    "        result_tail.next = ListNode(carry)\n",
    "        result_tail = result_tail.next\n",
    "    return result\n",
    "        "
   ]
  },
  {
   "cell_type": "code",
   "execution_count": 19,
   "metadata": {},
   "outputs": [
    {
     "name": "stdout",
     "output_type": "stream",
     "text": [
      "[8, 9, 9, 9, 0, 0, 0, 1]\n"
     ]
    }
   ],
   "source": [
    "# example\n",
    "#Inputs: \n",
    "l1 = [9,9,9,9,9,9,9]\n",
    "l2 = [9,9,9,9]\n",
    "#Output should be: [8,9,9,9,0,0,0,1]\n",
    "\n",
    "# Generates ll from lists\n",
    "def llFroml(ls):\n",
    "    ll = ListNode(ls[0])\n",
    "    ll_tail = ll\n",
    "    for elem in ls[1:]:\n",
    "        ll_tail.next = ListNode(elem)\n",
    "        ll_tail = ll_tail.next\n",
    "    return ll\n",
    "\n",
    "def displayll(ll):\n",
    "    ls = []\n",
    "    ls.append(ll.val)\n",
    "    while ll.next != None:\n",
    "        ls.append(ll.next.val)\n",
    "        ll = ll.next\n",
    "    print(ls)\n",
    "\n",
    "resll = sum(llFroml(l1), llFroml(l2))\n",
    "displayll(resll)"
   ]
  },
  {
   "cell_type": "code",
   "execution_count": 20,
   "metadata": {},
   "outputs": [
    {
     "name": "stdout",
     "output_type": "stream",
     "text": [
      "[9, 9, 9, 9, 9, 9, 9]\n"
     ]
    }
   ],
   "source": [
    "ll = llFroml(l1)\n",
    "displayll(ll)"
   ]
  }
 ],
 "metadata": {
  "kernelspec": {
   "display_name": "base",
   "language": "python",
   "name": "python3"
  },
  "language_info": {
   "codemirror_mode": {
    "name": "ipython",
    "version": 3
   },
   "file_extension": ".py",
   "mimetype": "text/x-python",
   "name": "python",
   "nbconvert_exporter": "python",
   "pygments_lexer": "ipython3",
   "version": "3.9.12"
  },
  "orig_nbformat": 4
 },
 "nbformat": 4,
 "nbformat_minor": 2
}
