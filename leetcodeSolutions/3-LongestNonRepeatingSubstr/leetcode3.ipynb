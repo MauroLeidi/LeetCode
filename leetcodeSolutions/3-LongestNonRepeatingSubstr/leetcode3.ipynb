{
 "cells": [
  {
   "cell_type": "code",
   "execution_count": 47,
   "metadata": {},
   "outputs": [],
   "source": [
    "def longestNRsubstr(s):\n",
    "    \"\"\"Computes the length of the longest substring without repeating characters\n",
    "\n",
    "    Args:\n",
    "        s (str): A sting of characters\n",
    "\n",
    "    Returns:\n",
    "        int: The length of the longest substring without repeating characters\n",
    "    \"\"\"    \n",
    "    substrset = set()\n",
    "    start = 0\n",
    "    end = 0\n",
    "    maxlen = 0\n",
    "    for letter in s:\n",
    "        # If the next letter is in the substring already, remove all the letters to the first occurence of the next letter\n",
    "        if letter in substrset:\n",
    "            # End is excluded from the substring noted by s[start:end]\n",
    "            substring = s[start:end]\n",
    "            #print(f\"{letter} is in {substrset}\")\n",
    "            # First occurence is at index idx in the substring\n",
    "            idx = substring.index(letter)\n",
    "            # remove all the letters from the substring set, excluding the next letter\n",
    "            for toremove in s[start:start + idx ]:\n",
    "                #print(f\"removing {toremove}\")\n",
    "                substrset.remove(toremove)\n",
    "        \n",
    "            # the  new start is shifted by index + 1 \n",
    "            start = start + idx + 1\n",
    "            end += 1\n",
    "        # otherwise, add the letter to the substring\n",
    "        else:\n",
    "            substrset.add(letter)\n",
    "            end += 1\n",
    "        # check if current string lenght is the max\n",
    "        if maxlen < len(substrset):\n",
    "            maxlen = len(substrset)\n",
    "        #print(substrset)\n",
    "    return maxlen"
   ]
  },
  {
   "cell_type": "markdown",
   "metadata": {},
   "source": [
    "Tests"
   ]
  },
  {
   "cell_type": "code",
   "execution_count": 48,
   "metadata": {},
   "outputs": [
    {
     "name": "stdout",
     "output_type": "stream",
     "text": [
      "3\n"
     ]
    }
   ],
   "source": [
    "s = \"abc\"\n",
    "print(longestNRsubstr(s))"
   ]
  },
  {
   "cell_type": "code",
   "execution_count": 49,
   "metadata": {},
   "outputs": [
    {
     "name": "stdout",
     "output_type": "stream",
     "text": [
      "3\n"
     ]
    }
   ],
   "source": [
    "s = \"pwwkew\"\n",
    "print(longestNRsubstr(s))\n"
   ]
  },
  {
   "cell_type": "code",
   "execution_count": 50,
   "metadata": {},
   "outputs": [
    {
     "name": "stdout",
     "output_type": "stream",
     "text": [
      "1\n"
     ]
    }
   ],
   "source": [
    "s = \"bbbbb\"\n",
    "print(longestNRsubstr(s))\n"
   ]
  },
  {
   "cell_type": "code",
   "execution_count": 51,
   "metadata": {},
   "outputs": [
    {
     "name": "stdout",
     "output_type": "stream",
     "text": [
      "3\n"
     ]
    }
   ],
   "source": [
    "s = \"abcabcbb\"\n",
    "print(longestNRsubstr(s))"
   ]
  }
 ],
 "metadata": {
  "kernelspec": {
   "display_name": "base",
   "language": "python",
   "name": "python3"
  },
  "language_info": {
   "codemirror_mode": {
    "name": "ipython",
    "version": 3
   },
   "file_extension": ".py",
   "mimetype": "text/x-python",
   "name": "python",
   "nbconvert_exporter": "python",
   "pygments_lexer": "ipython3",
   "version": "3.10.12"
  },
  "orig_nbformat": 4
 },
 "nbformat": 4,
 "nbformat_minor": 2
}
